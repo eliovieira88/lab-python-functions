{
 "cells": [
  {
   "cell_type": "markdown",
   "id": "25d7736c-ba17-4aff-b6bb-66eba20fbf4e",
   "metadata": {},
   "source": [
    "# Lab | Functions"
   ]
  },
  {
   "cell_type": "markdown",
   "id": "0c581062-8967-4d93-b06e-62833222f930",
   "metadata": {
    "tags": []
   },
   "source": [
    "## Exercise: Managing Customer Orders with Functions\n",
    "\n",
    "In the previous exercise, you improved the code for managing customer orders by using loops and flow control. Now, let's take it a step further and refactor the code by introducing functions.\n",
    "\n",
    "Follow the steps below to complete the exercise:\n",
    "\n",
    "1. Define a function named `initialize_inventory` that takes `products` as a parameter. Inside the function, implement the code for initializing the inventory dictionary using a loop and user input.\n",
    "\n",
    "2. Define a function named `get_customer_orders` that takes no parameters. Inside the function, implement the code for prompting the user to enter the product names using a loop. The function should return the `customer_orders` set.\n",
    "\n",
    "3. Define a function named `update_inventory` that takes `customer_orders` and `inventory` as parameters. Inside the function, implement the code for updating the inventory dictionary based on the customer orders.\n",
    "\n",
    "4. Define a function named `calculate_order_statistics` that takes `customer_orders` and `products` as parameters. Inside the function, implement the code for calculating the order statistics (total products ordered, and percentage of unique products ordered). The function should return these values.\n",
    "\n",
    "5. Define a function named `print_order_statistics` that takes `order_statistics` as a parameter. Inside the function, implement the code for printing the order statistics.\n",
    "\n",
    "6. Define a function named `print_updated_inventory` that takes `inventory` as a parameter. Inside the function, implement the code for printing the updated inventory.\n",
    "\n",
    "7. Call the functions in the appropriate sequence to execute the program and manage customer orders.\n",
    "\n",
    "Hints for functions:\n",
    "\n",
    "- Consider the input parameters required for each function and their return values.\n",
    "- Utilize function parameters and return values to transfer data between functions.\n",
    "- Test your functions individually to ensure they work correctly.\n",
    "\n",
    "\n"
   ]
  },
  {
   "cell_type": "code",
   "execution_count": 22,
   "id": "cd904400",
   "metadata": {},
   "outputs": [
    {
     "name": "stdout",
     "output_type": "stream",
     "text": [
      "Please enter the quantity for t-shirt available: 4\n",
      "Please enter the quantity for mug available: 5\n",
      "Please enter the quantity for hat available: 6\n",
      "Please enter the quantity for book available: 4\n",
      "Please enter the quantity for keychain available: 5\n",
      "Enter the name of a product you want to order: mug\n",
      "Do you want to continue your order? (yes/no): no\n",
      "\n",
      "Order Statistics:\n",
      "Total Products Ordered: 1\n",
      "Percentage of Products Ordered: 4 %\n",
      "\n",
      "Updated Inventory:\n",
      "t-shirt: 4\n",
      "mug: 4\n",
      "hat: 6\n",
      "book: 4\n",
      "keychain: 5\n"
     ]
    }
   ],
   "source": [
    "products = [\"t-shirt\", \"mug\", \"hat\", \"book\", \"keychain\"]\n",
    "\n",
    "def initialize_inventory(products):\n",
    "    inventory = {}\n",
    "    for product in products:\n",
    "        inventory[product] =int(input(f\"Please enter the quantity for {product} available: \"))\n",
    "    return inventory\n",
    "\n",
    "def get_customer_order():\n",
    "    customer_order = set()\n",
    "    order = True\n",
    "    while order == True:\n",
    "        request = input(\"Enter the name of a product you want to order: \")\n",
    "        customer_order.add(request)\n",
    "        continue_request = input(\"Do you want to continue your order? (yes/no): \")\n",
    "        if continue_request.lower() == \"no\":\n",
    "            order = False\n",
    "    return customer_order\n",
    "\n",
    "def update_inventory(customer_order, inventory):\n",
    "    for product in customer_order:\n",
    "        inventory[product] -= 1\n",
    "        \n",
    "def calculate_order_statistics(customer_order, product):\n",
    "    total_products_ordered = len(customer_order)\n",
    "    total_available_products = sum(inventory.values())\n",
    "    percentage_ordered = (total_products_ordered / total_available_products) * 100\n",
    "    order_status = (total_products_ordered, percentage_ordered)\n",
    "    return order_status\n",
    "\n",
    "def print_order_statistics(order_statistics):\n",
    "    total_products_ordered, percentage_ordered = order_statistics #I got stuck here because I didn't have this line, I had to ask the chatbot for help to solve it. I don't know if I understood very well why total_products_ordered wasn't defined if I was returning it with return, but I changed it and now it's returning order_status.\n",
    "    print(\"\\nOrder Statistics:\")\n",
    "    print(\"Total Products Ordered:\", total_products_ordered)\n",
    "    print(\"Percentage of Products Ordered:\", int(percentage_ordered),\"%\")\n",
    "\n",
    "def print_updated_inventory(inventory):\n",
    "    print(\"\\nUpdated Inventory:\")\n",
    "    for product, quantity in inventory.items():\n",
    "        print(f\"{product}: {quantity}\")\n",
    "\n",
    "            \n",
    "inventory = initialize_inventory(products)\n",
    "customer_order = get_customer_order()\n",
    "update_inventory(customer_order, inventory)\n",
    "calculate_order_statistics(customer_order, products)\n",
    "print_order_statistics(order_statistics)\n",
    "print_updated_inventory(inventory)"
   ]
  },
  {
   "cell_type": "code",
   "execution_count": null,
   "id": "c2f96e1f",
   "metadata": {},
   "outputs": [],
   "source": []
  }
 ],
 "metadata": {
  "kernelspec": {
   "display_name": "Python 3 (ipykernel)",
   "language": "python",
   "name": "python3"
  },
  "language_info": {
   "codemirror_mode": {
    "name": "ipython",
    "version": 3
   },
   "file_extension": ".py",
   "mimetype": "text/x-python",
   "name": "python",
   "nbconvert_exporter": "python",
   "pygments_lexer": "ipython3",
   "version": "3.11.5"
  }
 },
 "nbformat": 4,
 "nbformat_minor": 5
}
